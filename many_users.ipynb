{
 "cells": [
  {
   "cell_type": "code",
   "execution_count": 8,
   "id": "universal-commodity",
   "metadata": {},
   "outputs": [
    {
     "name": "stdout",
     "output_type": "stream",
     "text": [
      "user_name is Aeinstien\n",
      "full name is Einstein Albert\n",
      "location : Princeton\n",
      "user_name is Mcurie\n",
      "full name is Curie Merry\n",
      "location : Paris\n"
     ]
    }
   ],
   "source": [
    "users = {\n",
    "    'aeinstien' :{\n",
    "        'first':'einstein',\n",
    "        'last':'albert',\n",
    "        'location':'princeton',\n",
    "    },\n",
    "    'mcurie':{\n",
    "        'first':'curie',\n",
    "        'last':'merry',\n",
    "        'location':'paris',\n",
    "    },\n",
    "}\n",
    "users\n",
    "for user_name,user_info in users.items():\n",
    "    print(f\"user_name is {user_name.title()}\")\n",
    "    full_name = f\"{user_info['first']} {user_info['last']}\"\n",
    "    location = f\"{user_info['location']}\"\n",
    "    print(f\"full name is {full_name.title()}\")\n",
    "    print(f\"location : {location.title()}\")"
   ]
  }
 ],
 "metadata": {
  "kernelspec": {
   "display_name": "Python 3",
   "language": "python",
   "name": "python3"
  },
  "language_info": {
   "codemirror_mode": {
    "name": "ipython",
    "version": 3
   },
   "file_extension": ".py",
   "mimetype": "text/x-python",
   "name": "python",
   "nbconvert_exporter": "python",
   "pygments_lexer": "ipython3",
   "version": "3.9.1"
  }
 },
 "nbformat": 4,
 "nbformat_minor": 5
}
