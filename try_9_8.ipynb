{
 "cells": [
  {
   "cell_type": "code",
   "execution_count": 4,
   "id": "executive-initial",
   "metadata": {},
   "outputs": [
    {
     "name": "stdout",
     "output_type": "stream",
     "text": [
      "admins privileges are ['add', 'delete', 'super user']\n"
     ]
    }
   ],
   "source": [
    "class User():\n",
    "    def __init__(self,f_name,l_name,age):\n",
    "        self.f_name = f_name\n",
    "        self.l_name = l_name\n",
    "        self.age = age\n",
    "        self.attempts = 0\n",
    "    def d_user(self):\n",
    "        sum = f\"user {self.f_name},{self.l_name} is {self.age} old\"\n",
    "        return sum.title()\n",
    "    def g_user(self):\n",
    "        print(f\"Hi {self.f_name}{self.l_name} how are you doing ?\")\n",
    "    def i_login(self):\n",
    "        self.attempts += 1\n",
    "        print(f\"no of logins attempts made {self.attempts}\")\n",
    "    def r_login(self):\n",
    "        self.attempts = 0\n",
    "        print(f\"no of logins attempts made {self.attempts}\")\n",
    "        \n",
    "class Privil():\n",
    "    def __init__(self,privileges=['add','delete','super user']):\n",
    "        self.privileges = privileges\n",
    "    def show_privileges(self):\n",
    "        print(f\"admins privileges are {self.privileges}\")\n",
    "        \n",
    "class Admin(User):\n",
    "    def __init__(self,f_name,l_name,age):\n",
    "        super().__init__(f_name,l_name,age)\n",
    "        self.my_privil = Privil()\n",
    "        \n",
    "my_admin = Admin('vishal','karur',25)\n",
    "my_admin.my_privil.show_privileges()\n"
   ]
  },
  {
   "cell_type": "code",
   "execution_count": null,
   "id": "wrapped-vintage",
   "metadata": {},
   "outputs": [],
   "source": []
  }
 ],
 "metadata": {
  "kernelspec": {
   "display_name": "Python 3",
   "language": "python",
   "name": "python3"
  },
  "language_info": {
   "codemirror_mode": {
    "name": "ipython",
    "version": 3
   },
   "file_extension": ".py",
   "mimetype": "text/x-python",
   "name": "python",
   "nbconvert_exporter": "python",
   "pygments_lexer": "ipython3",
   "version": "3.9.1"
  }
 },
 "nbformat": 4,
 "nbformat_minor": 5
}
