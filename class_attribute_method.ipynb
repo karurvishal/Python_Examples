{
 "cells": [
  {
   "cell_type": "code",
   "execution_count": 2,
   "id": "useful-bacteria",
   "metadata": {},
   "outputs": [
    {
     "name": "stdout",
     "output_type": "stream",
     "text": [
      "2019 Audi A4\n",
      "this car has 1000 miles\n",
      "this car has 1100 miles\n"
     ]
    }
   ],
   "source": [
    "class Car:\n",
    "    def __init__ (self,make,model,year):\n",
    "        self.make = make\n",
    "        self.model = model\n",
    "        self.year = year\n",
    "        self.odometer_reading = 30\n",
    "    def get_name(self):\n",
    "        long_name = f\"{self.year} {self.make} {self.model}\"\n",
    "        return long_name.title()\n",
    "    def get_reading(self):\n",
    "        print(f\"this car has {self.odometer_reading} miles\")\n",
    "    def update_odometer(self,mileage):\n",
    "        self.odometer_reading = mileage\n",
    "    def increment_odometer(self,miles):\n",
    "        self.odometer_reading += miles\n",
    "my_car = Car('audi','a4','2019')\n",
    "print(my_car.get_name())\n",
    "my_car.update_odometer(1000)\n",
    "my_car.get_reading()\n",
    "my_car.increment_odometer(100)\n",
    "my_car.get_reading()"
   ]
  },
  {
   "cell_type": "code",
   "execution_count": null,
   "id": "amazing-bundle",
   "metadata": {},
   "outputs": [],
   "source": []
  }
 ],
 "metadata": {
  "kernelspec": {
   "display_name": "Python 3",
   "language": "python",
   "name": "python3"
  },
  "language_info": {
   "codemirror_mode": {
    "name": "ipython",
    "version": 3
   },
   "file_extension": ".py",
   "mimetype": "text/x-python",
   "name": "python",
   "nbconvert_exporter": "python",
   "pygments_lexer": "ipython3",
   "version": "3.9.1"
  }
 },
 "nbformat": 4,
 "nbformat_minor": 5
}
