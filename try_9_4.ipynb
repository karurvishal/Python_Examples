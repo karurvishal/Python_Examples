{
 "cells": [
  {
   "cell_type": "code",
   "execution_count": 8,
   "id": "intelligent-lithuania",
   "metadata": {},
   "outputs": [
    {
     "name": "stdout",
     "output_type": "stream",
     "text": [
      "The Place Name Is Baba And It Has Biryani\n",
      "the res is open\n",
      "the res has served 0 times\n",
      "the res has served 100 times\n"
     ]
    }
   ],
   "source": [
    "class Res():\n",
    "    def __init__(self,r_name,c_type):\n",
    "        self.r_name = r_name\n",
    "        self.c_type = c_type\n",
    "        self.n_served = 0\n",
    "    def d_res(self):\n",
    "        info = f\"the place name is {self.r_name} and it has {self.c_type}\"\n",
    "        return info.title()\n",
    "    def o_res(self):\n",
    "        print(\"the res is open\")\n",
    "    def update_serve(self,times):\n",
    "        self.n_served += times\n",
    "restaurant = Res('baba','biryani')\n",
    "print(restaurant.d_res())\n",
    "restaurant.o_res()\n",
    "print(f\"the res has served {restaurant.n_served} times\")\n",
    "restaurant.update_serve(100)\n",
    "print(f\"the res has served {restaurant.n_served} times\")\n",
    "\n"
   ]
  },
  {
   "cell_type": "code",
   "execution_count": null,
   "id": "thrown-balance",
   "metadata": {},
   "outputs": [],
   "source": []
  }
 ],
 "metadata": {
  "kernelspec": {
   "display_name": "Python 3",
   "language": "python",
   "name": "python3"
  },
  "language_info": {
   "codemirror_mode": {
    "name": "ipython",
    "version": 3
   },
   "file_extension": ".py",
   "mimetype": "text/x-python",
   "name": "python",
   "nbconvert_exporter": "python",
   "pygments_lexer": "ipython3",
   "version": "3.9.1"
  }
 },
 "nbformat": 4,
 "nbformat_minor": 5
}
