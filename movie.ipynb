{
 "cells": [
  {
   "cell_type": "code",
   "execution_count": 6,
   "id": "blond-branch",
   "metadata": {},
   "outputs": [
    {
     "name": "stdout",
     "output_type": "stream",
     "text": [
      "enter your age: 30\n",
      "ticket price is $15\n",
      "enter your age: 0\n",
      "age cannot be zero.restaring the game\n"
     ]
    }
   ],
   "source": [
    "active = True \n",
    "while active : \n",
    "    age = int(input(\"enter your age: \")) \n",
    "    if age ==0: \n",
    "        print(\"age cannot be zero.restaring the game\") \n",
    "        break \n",
    "    elif age < 3: \n",
    "        print(\"free ticket\") \n",
    "    elif age >=3 and age <=12: \n",
    "        print(\"ticket price is  10\")\n",
    "    else:\n",
    "        print(\"ticket price is $15\")\n"
   ]
  }
 ],
 "metadata": {
  "kernelspec": {
   "display_name": "Python 3",
   "language": "python",
   "name": "python3"
  },
  "language_info": {
   "codemirror_mode": {
    "name": "ipython",
    "version": 3
   },
   "file_extension": ".py",
   "mimetype": "text/x-python",
   "name": "python",
   "nbconvert_exporter": "python",
   "pygments_lexer": "ipython3",
   "version": "3.9.1"
  }
 },
 "nbformat": 4,
 "nbformat_minor": 5
}
