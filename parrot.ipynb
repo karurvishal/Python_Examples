{
 "cells": [
  {
   "cell_type": "code",
   "execution_count": 2,
   "id": "revolutionary-denmark",
   "metadata": {},
   "outputs": [
    {
     "name": "stdout",
     "output_type": "stream",
     "text": [
      "tell me something i will print .enter quit to stopvishal\n",
      "vishal\n",
      "tell me something i will print .enter quit to stopkarur\n",
      "karur\n",
      "tell me something i will print .enter quit to stopquit\n"
     ]
    }
   ],
   "source": [
    "prompt = \"tell me something i will print .enter quit to stop\"\n",
    "message = \"\"\n",
    "while message != 'quit':\n",
    "    message = input(prompt)\n",
    "    if message != 'quit':\n",
    "        print(message)\n",
    "    "
   ]
  }
 ],
 "metadata": {
  "kernelspec": {
   "display_name": "Python 3",
   "language": "python",
   "name": "python3"
  },
  "language_info": {
   "codemirror_mode": {
    "name": "ipython",
    "version": 3
   },
   "file_extension": ".py",
   "mimetype": "text/x-python",
   "name": "python",
   "nbconvert_exporter": "python",
   "pygments_lexer": "ipython3",
   "version": "3.9.1"
  }
 },
 "nbformat": 4,
 "nbformat_minor": 5
}
