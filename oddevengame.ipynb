{
 "cells": [
  {
   "cell_type": "code",
   "execution_count": 1,
   "id": "identified-correction",
   "metadata": {},
   "outputs": [
    {
     "name": "stdout",
     "output_type": "stream",
     "text": [
      "Welcome to the game user\n",
      "enter the number between 1 and 10005\n",
      "its a odd number . want to input another number.if not press 0 to exit\n"
     ]
    }
   ],
   "source": [
    "def game(f_num):\n",
    "    if f_num >=1 and f_num <=1000:\n",
    "        if f_num%2==0:\n",
    "            print(\"its a even number\")\n",
    "        else:\n",
    "            print(\"its a odd number . want to input another number.if not press 0 to exit\")\n",
    "    else:\n",
    "        print(\"enter the number between 1 and 1000\")\n",
    "    \n",
    "if __name__ == \"__main__\":\n",
    "    print(\"Welcome to the game user\")\n",
    "    f_num = int(input(\"enter the number between 1 and 1000\"))\n",
    "    game(f_num)"
   ]
  },
  {
   "cell_type": "code",
   "execution_count": null,
   "id": "federal-looking",
   "metadata": {},
   "outputs": [],
   "source": [
    "\n"
   ]
  },
  {
   "cell_type": "code",
   "execution_count": null,
   "id": "occupational-exception",
   "metadata": {},
   "outputs": [],
   "source": []
  }
 ],
 "metadata": {
  "kernelspec": {
   "display_name": "Python 3",
   "language": "python",
   "name": "python3"
  },
  "language_info": {
   "codemirror_mode": {
    "name": "ipython",
    "version": 3
   },
   "file_extension": ".py",
   "mimetype": "text/x-python",
   "name": "python",
   "nbconvert_exporter": "python",
   "pygments_lexer": "ipython3",
   "version": "3.9.1"
  }
 },
 "nbformat": 4,
 "nbformat_minor": 5
}
