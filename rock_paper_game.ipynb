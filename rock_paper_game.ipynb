{
 "cells": [
  {
   "cell_type": "code",
   "execution_count": null,
   "id": "ranking-reputation",
   "metadata": {},
   "outputs": [
    {
     "name": "stdout",
     "output_type": "stream",
     "text": [
      "Welcome to the Rock, Paper, Scissors Game\n",
      "\n",
      "Your Choice: Rock\n",
      "Computer Chose: scissors\n",
      "Player Wins\n",
      "Welcome to the Rock, Paper, Scissors Game\n",
      "\n"
     ]
    }
   ],
   "source": [
    "from random import randint\n",
    " \n",
    "choice = [\"rock\",\"paper\",\"scissors\"]\n",
    "def main():\n",
    "    computer = choice[randint(0,2)]\n",
    " \n",
    "    print(\"Welcome to the Rock, Paper, Scissors Game\\n\")\n",
    "    player = input(\"Your Choice: \").lower()\n",
    "    print(\"Computer Chose: \" + computer)\n",
    " \n",
    "    if player == computer:\n",
    "        print(\"Draw\")\n",
    "    elif player == \"rock\" and computer == \"paper\":\n",
    "        print(\"Computer Wins\")\n",
    "    elif player == \"rock\" and computer == \"scissors\":\n",
    "        print(\"Player Wins\")\n",
    "    elif player == \"paper\" and computer == \"rock\":\n",
    "        print(\"Player Wins\")\n",
    "    elif player == \"paper\" and computer == \"scissors\":\n",
    "        print(\"Computer Wins\")\n",
    "    elif player == \"scissors\" and computer  == \"rock\":\n",
    "        print(\"Computer Wins\")\n",
    "    elif player == \"scissors\" and computer == \"paper\":\n",
    "        print(\"Player Wins\")\n",
    "    elif player == \"end\":\n",
    "        print(\"byee\")\n",
    " \n",
    "    main()\n",
    " \n",
    "main()"
   ]
  },
  {
   "cell_type": "code",
   "execution_count": null,
   "id": "meaning-motel",
   "metadata": {},
   "outputs": [],
   "source": []
  }
 ],
 "metadata": {
  "kernelspec": {
   "display_name": "Python 3",
   "language": "python",
   "name": "python3"
  },
  "language_info": {
   "codemirror_mode": {
    "name": "ipython",
    "version": 3
   },
   "file_extension": ".py",
   "mimetype": "text/x-python",
   "name": "python",
   "nbconvert_exporter": "python",
   "pygments_lexer": "ipython3",
   "version": "3.9.1"
  }
 },
 "nbformat": 4,
 "nbformat_minor": 5
}
