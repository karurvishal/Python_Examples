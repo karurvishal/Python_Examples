{
 "cells": [
  {
   "cell_type": "code",
   "execution_count": 1,
   "id": "wanted-grocery",
   "metadata": {},
   "outputs": [
    {
     "name": "stdout",
     "output_type": "stream",
     "text": [
      "enter the sentence to which u need abbrevationWorld Health Organization\n",
      "WHO\n"
     ]
    }
   ],
   "source": [
    "def acr():\n",
    "    input_str1 = \"As Soon As Possible\"\n",
    "    input_str2 = \"World Health Organization\"\n",
    "    a = input(\"enter the sentence to which u need abbrevation\")\n",
    "    if a == input_str1:\n",
    "        print(\"ASAP\")\n",
    "    elif a == input_str2:\n",
    "        print(\"WHO\")\n",
    "    else:\n",
    "        print(\"try some other\")\n",
    "if __name__ == \"__main__\":\n",
    "    acr()"
   ]
  },
  {
   "cell_type": "code",
   "execution_count": null,
   "id": "decent-forth",
   "metadata": {},
   "outputs": [],
   "source": []
  }
 ],
 "metadata": {
  "kernelspec": {
   "display_name": "Python 3",
   "language": "python",
   "name": "python3"
  },
  "language_info": {
   "codemirror_mode": {
    "name": "ipython",
    "version": 3
   },
   "file_extension": ".py",
   "mimetype": "text/x-python",
   "name": "python",
   "nbconvert_exporter": "python",
   "pygments_lexer": "ipython3",
   "version": "3.9.1"
  }
 },
 "nbformat": 4,
 "nbformat_minor": 5
}
