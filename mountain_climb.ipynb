{
 "cells": [
  {
   "cell_type": "code",
   "execution_count": 2,
   "id": "excessive-nirvana",
   "metadata": {},
   "outputs": [
    {
     "name": "stdout",
     "output_type": "stream",
     "text": [
      "what is yout namevishal\n",
      "which mountain u want to climbkarur\n",
      "want to play yes/noyes\n",
      "what is yout namevinayak\n",
      "which mountain u want to climbkarur\n",
      "want to play yes/nono\n",
      "poll results\n",
      "vishal,climb : karur\n",
      "vinayak,climb : karur\n"
     ]
    }
   ],
   "source": [
    "responses = {}\n",
    "polling_active = True\n",
    "while polling_active:\n",
    "    name = input(\"what is yout name\")\n",
    "    response = input(\"which mountain u want to climb\")\n",
    "    responses[name]=response\n",
    "    repeat = input(\"want to play yes/no\")\n",
    "    if repeat == 'no':\n",
    "        polling_active = False\n",
    "print(\"poll results\")\n",
    "for name,response in responses.items():\n",
    "    print(f\"{name},climb : {response}\")"
   ]
  }
 ],
 "metadata": {
  "kernelspec": {
   "display_name": "Python 3",
   "language": "python",
   "name": "python3"
  },
  "language_info": {
   "codemirror_mode": {
    "name": "ipython",
    "version": 3
   },
   "file_extension": ".py",
   "mimetype": "text/x-python",
   "name": "python",
   "nbconvert_exporter": "python",
   "pygments_lexer": "ipython3",
   "version": "3.9.1"
  }
 },
 "nbformat": 4,
 "nbformat_minor": 5
}
