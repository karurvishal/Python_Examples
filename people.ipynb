{
 "cells": [
  {
   "cell_type": "code",
   "execution_count": 10,
   "id": "blind-literature",
   "metadata": {},
   "outputs": [
    {
     "name": "stdout",
     "output_type": "stream",
     "text": [
      "vishal\tkarur\t23\trnr\n",
      "vinayak\tkarur\t26\tsingapore\n",
      "renuka\tkarur\t52\tranebennur\n"
     ]
    }
   ],
   "source": [
    "person_1 = {\n",
    "    'first_name':'vishal',\n",
    "    'last_name':'karur',\n",
    "    'age':23,\n",
    "    'city':'rnr',\n",
    "}\n",
    "person_2 = {\n",
    "    'first_name':'vinayak',\n",
    "    'last_name':'karur',\n",
    "    'age':26,\n",
    "    'city':'singapore',\n",
    "}\n",
    "person_3 = {\n",
    "    'first_name':'renuka',\n",
    "    'last_name':'karur',\n",
    "    'age':52,\n",
    "    'city':'ranebennur',\n",
    "}\n",
    "person = [person_1,person_2,person_3]\n",
    "for x in person:\n",
    "    print(x['first_name'],end=\"\\t\")\n",
    "    print(x['last_name'],end=\"\\t\")\n",
    "    print(x['age'],end=\"\\t\")\n",
    "    print(x['city'])"
   ]
  },
  {
   "cell_type": "code",
   "execution_count": null,
   "id": "immune-hartford",
   "metadata": {},
   "outputs": [],
   "source": []
  }
 ],
 "metadata": {
  "kernelspec": {
   "display_name": "Python 3",
   "language": "python",
   "name": "python3"
  },
  "language_info": {
   "codemirror_mode": {
    "name": "ipython",
    "version": 3
   },
   "file_extension": ".py",
   "mimetype": "text/x-python",
   "name": "python",
   "nbconvert_exporter": "python",
   "pygments_lexer": "ipython3",
   "version": "3.9.1"
  }
 },
 "nbformat": 4,
 "nbformat_minor": 5
}
