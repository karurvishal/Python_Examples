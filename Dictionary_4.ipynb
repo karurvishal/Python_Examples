{
 "cells": [
  {
   "cell_type": "code",
   "execution_count": 10,
   "id": "spanish-mattress",
   "metadata": {},
   "outputs": [],
   "source": [
    "f_language = {\n",
    "    'jen' : 'python',\n",
    "    'sarah': 'java',\n",
    "    'edward' : 'ruby',\n",
    "    'phil' : 'python',\n",
    "}"
   ]
  },
  {
   "cell_type": "code",
   "execution_count": 16,
   "id": "attended-office",
   "metadata": {},
   "outputs": [
    {
     "name": "stdout",
     "output_type": "stream",
     "text": [
      "sarah favourite language is JAVA\n"
     ]
    }
   ],
   "source": [
    "language = f_language['sarah'].upper()\n",
    "print(f\"sarah favourite language is {language}\")"
   ]
  },
  {
   "cell_type": "markdown",
   "id": "dated-blond",
   "metadata": {},
   "source": []
  },
  {
   "cell_type": "code",
   "execution_count": 37,
   "id": "attractive-dominican",
   "metadata": {},
   "outputs": [
    {
     "name": "stdout",
     "output_type": "stream",
     "text": [
      "Hi Jen\n",
      "\tHi Jen,I see you love Python\n",
      "Hi Sarah\n",
      "Hi Edward\n",
      "\tHi Edward,I see you love Ruby\n",
      "Hi Phil\n",
      "take ur poll!\n",
      "ruby\n",
      "java\n",
      "python\n"
     ]
    }
   ],
   "source": [
    "friend = ['jen','edward']\n",
    "for name in f_language.keys():\n",
    "    print(f\"Hi {name.title()}\")\n",
    "    \n",
    "    if name in friend:\n",
    "        language = f_language[name].title()\n",
    "        print(f\"\\tHi {name.title()},I see you love {language}\")\n",
    "if 'erin' not in f_language.keys():\n",
    "    print(\"take ur poll!\")\n",
    "for language in set(f_language.values()):\n",
    "    print(language)"
   ]
  }
 ],
 "metadata": {
  "kernelspec": {
   "display_name": "Python 3",
   "language": "python",
   "name": "python3"
  },
  "language_info": {
   "codemirror_mode": {
    "name": "ipython",
    "version": 3
   },
   "file_extension": ".py",
   "mimetype": "text/x-python",
   "name": "python",
   "nbconvert_exporter": "python",
   "pygments_lexer": "ipython3",
   "version": "3.9.1"
  }
 },
 "nbformat": 4,
 "nbformat_minor": 5
}
