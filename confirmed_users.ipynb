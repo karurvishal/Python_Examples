{
 "cells": [
  {
   "cell_type": "code",
   "execution_count": 3,
   "id": "acute-advocacy",
   "metadata": {},
   "outputs": [
    {
     "name": "stdout",
     "output_type": "stream",
     "text": [
      "verfiying user : Renuka\n",
      "verfiying user : Vinayak\n",
      "verfiying user : Vishal\n",
      "all the confirmed users are\n",
      "Renuka\n",
      "Vinayak\n",
      "Vishal\n"
     ]
    }
   ],
   "source": [
    "unconfirmed_users = ['vishal','vinayak','renuka']\n",
    "confirmed_users = []\n",
    "while unconfirmed_users:\n",
    "    current_user = unconfirmed_users.pop()\n",
    "    print(f\"verfiying user : {current_user.title()}\")\n",
    "    confirmed_users.append(current_user)\n",
    "print(\"all the confirmed users are\")\n",
    "for confirmed_user in confirmed_users:\n",
    "    print(f\"{confirmed_user.title()}\")"
   ]
  }
 ],
 "metadata": {
  "kernelspec": {
   "display_name": "Python 3",
   "language": "python",
   "name": "python3"
  },
  "language_info": {
   "codemirror_mode": {
    "name": "ipython",
    "version": 3
   },
   "file_extension": ".py",
   "mimetype": "text/x-python",
   "name": "python",
   "nbconvert_exporter": "python",
   "pygments_lexer": "ipython3",
   "version": "3.9.1"
  }
 },
 "nbformat": 4,
 "nbformat_minor": 5
}
