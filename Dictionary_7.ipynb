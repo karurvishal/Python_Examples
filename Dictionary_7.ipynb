{
 "cells": [
  {
   "cell_type": "code",
   "execution_count": 10,
   "id": "hindu-thailand",
   "metadata": {},
   "outputs": [
    {
     "name": "stdout",
     "output_type": "stream",
     "text": [
      "\n",
      "key   : name\n",
      "\n",
      "key   : f_name\n",
      "\n",
      "key   : l_name\n"
     ]
    }
   ],
   "source": [
    "user = {\n",
    "    'name':'vishalkarur',\n",
    "    'f_name' :'vishal',\n",
    "    'l_name' : 'karur',\n",
    "}\n",
    "for key in user:\n",
    "    print(f\"\\nkey   : {key}\")\n",
    "    #print(f\"value : {value}\")"
   ]
  }
 ],
 "metadata": {
  "kernelspec": {
   "display_name": "Python 3",
   "language": "python",
   "name": "python3"
  },
  "language_info": {
   "codemirror_mode": {
    "name": "ipython",
    "version": 3
   },
   "file_extension": ".py",
   "mimetype": "text/x-python",
   "name": "python",
   "nbconvert_exporter": "python",
   "pygments_lexer": "ipython3",
   "version": "3.9.1"
  }
 },
 "nbformat": 4,
 "nbformat_minor": 5
}
