{
 "cells": [
  {
   "cell_type": "code",
   "execution_count": 6,
   "id": "spiritual-momentum",
   "metadata": {},
   "outputs": [
    {
     "name": "stdout",
     "output_type": "stream",
     "text": [
      "enter the email addressvishal.karur@gmail.com\n",
      "hey ur user_name is VISHAL.KARUR and password is GMAIL.COM\n"
     ]
    }
   ],
   "source": [
    "from random import randint\n",
    "def password():\n",
    "    email = input(\"enter the email address\").upper()\n",
    "    user_name = email[:email.index(\"@\")]\n",
    "    password = email[email.index(\"@\")+1:]\n",
    "    print(f\"hey ur user_name is {user_name} and password is {password}\")\n",
    "    \n",
    "password()"
   ]
  },
  {
   "cell_type": "code",
   "execution_count": null,
   "id": "detected-brazilian",
   "metadata": {},
   "outputs": [],
   "source": []
  }
 ],
 "metadata": {
  "kernelspec": {
   "display_name": "Python 3",
   "language": "python",
   "name": "python3"
  },
  "language_info": {
   "codemirror_mode": {
    "name": "ipython",
    "version": 3
   },
   "file_extension": ".py",
   "mimetype": "text/x-python",
   "name": "python",
   "nbconvert_exporter": "python",
   "pygments_lexer": "ipython3",
   "version": "3.9.1"
  }
 },
 "nbformat": 4,
 "nbformat_minor": 5
}
