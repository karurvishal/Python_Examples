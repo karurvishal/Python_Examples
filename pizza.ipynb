{
 "cells": [
  {
   "cell_type": "code",
   "execution_count": 10,
   "id": "polyphonic-tongue",
   "metadata": {},
   "outputs": [
    {
     "name": "stdout",
     "output_type": "stream",
     "text": [
      "{'crust': 'thick', 'toppings': ['mushroom', 'extra chesse']}\n",
      "you have ordered thick-crust pizza with the following toppings\n",
      "\n",
      "mushroom\n",
      "\n",
      "extra chesse\n"
     ]
    }
   ],
   "source": [
    "pizza = {\n",
    "    'crust':'thick',\n",
    "    'toppings':['mushroom','extra chesse'],\n",
    "}\n",
    "print(pizza)\n",
    "print(f\"you have ordered {pizza['crust']}-crust pizza\"\n",
    "     \" with the following toppings\")\n",
    "for topping in pizza['toppings']:\n",
    "    print(\"\\n\"+ topping)"
   ]
  },
  {
   "cell_type": "code",
   "execution_count": null,
   "id": "entitled-police",
   "metadata": {},
   "outputs": [],
   "source": []
  }
 ],
 "metadata": {
  "kernelspec": {
   "display_name": "Python 3",
   "language": "python",
   "name": "python3"
  },
  "language_info": {
   "codemirror_mode": {
    "name": "ipython",
    "version": 3
   },
   "file_extension": ".py",
   "mimetype": "text/x-python",
   "name": "python",
   "nbconvert_exporter": "python",
   "pygments_lexer": "ipython3",
   "version": "3.9.1"
  }
 },
 "nbformat": 4,
 "nbformat_minor": 5
}
