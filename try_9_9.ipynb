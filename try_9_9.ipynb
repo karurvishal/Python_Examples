{
 "cells": [
  {
   "cell_type": "code",
   "execution_count": 12,
   "id": "tropical-representation",
   "metadata": {},
   "outputs": [
    {
     "name": "stdout",
     "output_type": "stream",
     "text": [
      "Tesla Model S 2019\n",
      "the battery size is 75\n",
      "this car can go about 260 miles \n",
      "this car can go about 315 miles \n"
     ]
    }
   ],
   "source": [
    "class Car:\n",
    "    def __init__(self,make,model,year):\n",
    "        self.make=make\n",
    "        self.model=model\n",
    "        self.year=year\n",
    "        self.odometer_reading = 0\n",
    "    def get_name(self):\n",
    "        info = f\"{self.make} {self.model} {self.year}\"\n",
    "        return info.title()\n",
    "    def read_odometer(self):\n",
    "        print(f\"the car has {self.odometer_reading} miles on it\")\n",
    "    def update_odometer(self,mileage):\n",
    "        if mileage >= self.odometer_reading:\n",
    "            self.odometer_reading = mileage\n",
    "        else:\n",
    "            print(\"cannot roll back\")\n",
    "    def increment_odometer(self,miles):\n",
    "        self.odometer_reading += miles\n",
    "class Battery():\n",
    "    def __init__(self,size=75):\n",
    "        self.size = size\n",
    "    def describe_battery(self):\n",
    "        print(f\"the battery size is {self.size}\")\n",
    "    def upgrade_battery(self):\n",
    "        if self.size != 100:\n",
    "            self.size = 100\n",
    "    def get_range(self):\n",
    "        if self.size == 75:\n",
    "            range = 260\n",
    "        elif self.size == 100:\n",
    "            range = 315\n",
    "        print(f\"this car can go about {range} miles \")\n",
    "class ElectricCar(Car):\n",
    "    def __init__(self,make,model,year):\n",
    "        super().__init__(make,model,year)\n",
    "        self.my_battery = Battery()\n",
    "my_tesla = ElectricCar('tesla' , 'model s' , 2019)\n",
    "print(my_tesla.get_name())\n",
    "my_tesla.my_battery.describe_battery()\n",
    "my_tesla.my_battery.get_range()\n",
    "my_tesla.my_battery.upgrade_battery()\n",
    "my_tesla.my_battery.get_range()"
   ]
  },
  {
   "cell_type": "code",
   "execution_count": null,
   "id": "revolutionary-assumption",
   "metadata": {},
   "outputs": [],
   "source": []
  }
 ],
 "metadata": {
  "kernelspec": {
   "display_name": "Python 3",
   "language": "python",
   "name": "python3"
  },
  "language_info": {
   "codemirror_mode": {
    "name": "ipython",
    "version": 3
   },
   "file_extension": ".py",
   "mimetype": "text/x-python",
   "name": "python",
   "nbconvert_exporter": "python",
   "pygments_lexer": "ipython3",
   "version": "3.9.1"
  }
 },
 "nbformat": 4,
 "nbformat_minor": 5
}
