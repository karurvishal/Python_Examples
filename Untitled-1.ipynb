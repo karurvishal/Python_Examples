{
 "metadata": {
  "language_info": {
   "codemirror_mode": {
    "name": "ipython",
    "version": 3
   },
   "file_extension": ".py",
   "mimetype": "text/x-python",
   "name": "python",
   "nbconvert_exporter": "python",
   "pygments_lexer": "ipython3",
   "version": "3.9.1-final"
  },
  "orig_nbformat": 2,
  "kernelspec": {
   "name": "python391jvsc74a57bd03084affbb8dbcde442b8b0fa1d9d49a16f8847eafee907826d502e2dc69ef3ff",
   "display_name": "Python 3.9.1 64-bit"
  }
 },
 "nbformat": 4,
 "nbformat_minor": 2,
 "cells": [
  {
   "cell_type": "code",
   "execution_count": 5,
   "metadata": {},
   "outputs": [
    {
     "output_type": "stream",
     "name": "stdout",
     "text": [
      "[1, 3, 6, 9, 12, 17, 23, 89, 91]\n"
     ]
    }
   ],
   "source": [
    "def swap(a,b,arr):\n",
    "\tif a!=b:\n",
    "\t\ttemp = arr[a]\n",
    "\t\tarr[a] = arr[b]\n",
    "\t\tarr[b] = temp\n",
    "\n",
    "def partition(elements,start,end):\n",
    "\tpivot_index = start\n",
    "\tpivot = elements[pivot_index]\n",
    "\n",
    "\twhile start < end:\n",
    "\t\twhile start< len(elements) and elements[start] <= pivot:\n",
    "\t\t\tstart += 1\n",
    "\t\twhile elements[end] > pivot:\n",
    "\t\t\tend -= 1\n",
    "\t\tif start < end :\n",
    "\t\t\tswap(start,end,elements)\n",
    "\tswap(pivot_index,end,elements)\n",
    "\treturn end\n",
    "\n",
    "def quick_sort(elements,start,end):\n",
    "\tif start < end:\n",
    "\t\tpi = partition(elements,start,end)\n",
    "\t\tquick_sort(elements,start,pi-1)\n",
    "\t\tquick_sort(elements,pi+1,end)\n",
    "\n",
    "if __name__ == '__main__':\n",
    "\telements = [6,9,1,3,17,23,12,89,91]\n",
    "\tquick_sort(elements,0,len(elements)-1)\n",
    "\tprint(elements)"
   ]
  },
  {
   "cell_type": "code",
   "execution_count": null,
   "metadata": {},
   "outputs": [],
   "source": []
  }
 ]
}