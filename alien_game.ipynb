{
 "cells": [
  {
   "cell_type": "code",
   "execution_count": 12,
   "id": "increasing-japanese",
   "metadata": {},
   "outputs": [
    {
     "name": "stdout",
     "output_type": "stream",
     "text": [
      "{'color': 'green', 'points': 5, 'speed': 'slow'}\n",
      "{'color': 'green', 'points': 5, 'speed': 'slow'}\n",
      "{'color': 'green', 'points': 5, 'speed': 'slow'}\n",
      "{'color': 'green', 'points': 5, 'speed': 'slow'}\n",
      "{'color': 'green', 'points': 5, 'speed': 'slow'}\n",
      "\n",
      "we have created 30 aliens\n",
      "{'color': 'yellow', 'points': 10, 'speed': 'medium'}\n",
      "{'color': 'yellow', 'points': 10, 'speed': 'medium'}\n",
      "{'color': 'yellow', 'points': 10, 'speed': 'medium'}\n",
      "{'color': 'green', 'points': 5, 'speed': 'slow'}\n",
      "{'color': 'green', 'points': 5, 'speed': 'slow'}\n"
     ]
    }
   ],
   "source": [
    "aliens=[]\n",
    "for alien_number in range(30):#creating 30 aliens\n",
    "    new_alien={'color':'green','points':5,'speed':'slow'}\n",
    "    aliens.append(new_alien)\n",
    "for alien in aliens[:5]:#printing first 5 aliens\n",
    "    print(alien)\n",
    "print()\n",
    "print(f\"we have created {len(aliens)} aliens\")\n",
    "for alien in aliens[:3]:\n",
    "    if alien['color']=='green':\n",
    "        alien['color']='yellow'\n",
    "        alien['speed']='medium'\n",
    "        alien['points']=10\n",
    "for alien in aliens[:5]:#printing first 5 aliens\n",
    "    print(alien)\n",
    "    "
   ]
  }
 ],
 "metadata": {
  "kernelspec": {
   "display_name": "Python 3",
   "language": "python",
   "name": "python3"
  },
  "language_info": {
   "codemirror_mode": {
    "name": "ipython",
    "version": 3
   },
   "file_extension": ".py",
   "mimetype": "text/x-python",
   "name": "python",
   "nbconvert_exporter": "python",
   "pygments_lexer": "ipython3",
   "version": "3.9.1"
  }
 },
 "nbformat": 4,
 "nbformat_minor": 5
}
