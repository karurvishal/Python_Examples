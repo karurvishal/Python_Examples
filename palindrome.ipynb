{
 "cells": [
  {
   "cell_type": "code",
   "execution_count": 9,
   "id": "municipal-institution",
   "metadata": {},
   "outputs": [
    {
     "name": "stdout",
     "output_type": "stream",
     "text": [
      "enter the string : madam\n",
      "madam\n",
      "madam\n",
      "its a plaindrome\n"
     ]
    }
   ],
   "source": [
    "def pal():\n",
    "    str = input(\"enter the string : \").lower()\n",
    "    a = str[::-1]\n",
    "    print(a)\n",
    "    print(str)\n",
    "    if a == str:\n",
    "        print(\"its a plaindrome\")\n",
    "    else:\n",
    "        print(\"Not a plaindrome\")\n",
    "    \n",
    "pal()\n",
    "    "
   ]
  },
  {
   "cell_type": "code",
   "execution_count": null,
   "id": "assumed-mouse",
   "metadata": {},
   "outputs": [],
   "source": []
  }
 ],
 "metadata": {
  "kernelspec": {
   "display_name": "Python 3",
   "language": "python",
   "name": "python3"
  },
  "language_info": {
   "codemirror_mode": {
    "name": "ipython",
    "version": 3
   },
   "file_extension": ".py",
   "mimetype": "text/x-python",
   "name": "python",
   "nbconvert_exporter": "python",
   "pygments_lexer": "ipython3",
   "version": "3.9.1"
  }
 },
 "nbformat": 4,
 "nbformat_minor": 5
}
