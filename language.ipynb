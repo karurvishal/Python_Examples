{
 "cells": [
  {
   "cell_type": "code",
   "execution_count": 14,
   "id": "insured-category",
   "metadata": {},
   "outputs": [
    {
     "name": "stdout",
     "output_type": "stream",
     "text": [
      "\n",
      "Jen's favourite language is :\n",
      "\t['python', 'ruby']\n",
      "\n",
      "Sarah's favourite language is :\n",
      "\t['c']\n",
      "\n",
      "Edward's favourite language is :\n",
      "\t['ruby', 'go']\n",
      "\n",
      "Phil's favourite language is :\n",
      "\t['python', 'haskell']\n"
     ]
    }
   ],
   "source": [
    "f_languages = {\n",
    "    'jen':['python','ruby'],\n",
    "    'sarah':['c'],\n",
    "    'edward':['ruby','go'],\n",
    "    'phil':['python','haskell'],\n",
    "}\n",
    "f_languages\n",
    "for name , languages in f_languages.items():\n",
    "    print(f\"\\n{name.title()}'s favourite language is :\")\n",
    "    print(f\"\\t{languages}\")"
   ]
  }
 ],
 "metadata": {
  "kernelspec": {
   "display_name": "Python 3",
   "language": "python",
   "name": "python3"
  },
  "language_info": {
   "codemirror_mode": {
    "name": "ipython",
    "version": 3
   },
   "file_extension": ".py",
   "mimetype": "text/x-python",
   "name": "python",
   "nbconvert_exporter": "python",
   "pygments_lexer": "ipython3",
   "version": "3.9.1"
  }
 },
 "nbformat": 4,
 "nbformat_minor": 5
}
