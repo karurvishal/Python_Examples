{
 "cells": [
  {
   "cell_type": "code",
   "execution_count": 7,
   "id": "convenient-elements",
   "metadata": {},
   "outputs": [
    {
     "name": "stdout",
     "output_type": "stream",
     "text": [
      "wellie is name of the dog\n",
      "6 is the age of the dog\n",
      "wellie is sitting\n",
      "6 is the age of dog\n",
      "lucy is name of the dog\n",
      "8 is the age of the dog\n",
      "lucy is sitting\n",
      "8 is the age of dog\n"
     ]
    }
   ],
   "source": [
    "class Dog:\n",
    "    \"\"\"this is my first clas\"\"\"\n",
    "    def __init__(self,name,age):\n",
    "        self.name = name\n",
    "        self.age = age\n",
    "    def sit(self):\n",
    "        print(f\"{self.name} is sitting\")\n",
    "    def roll_over(self):\n",
    "        print(f\"{self.age} is the age of dog\")\n",
    "my_dog = Dog(\"wellie\",6)\n",
    "your_dog = Dog(\"lucy\",8)\n",
    "print(f\"{my_dog.name} is name of the dog\")\n",
    "print(f\"{my_dog.age} is the age of the dog\")\n",
    "my_dog.sit()\n",
    "my_dog.roll_over()\n",
    "print(f\"{your_dog.name} is name of the dog\")\n",
    "print(f\"{your_dog.age} is the age of the dog\")\n",
    "your_dog.sit()\n",
    "your_dog.roll_over()"
   ]
  },
  {
   "cell_type": "code",
   "execution_count": null,
   "id": "derived-flashing",
   "metadata": {},
   "outputs": [],
   "source": []
  }
 ],
 "metadata": {
  "kernelspec": {
   "display_name": "Python 3",
   "language": "python",
   "name": "python3"
  },
  "language_info": {
   "codemirror_mode": {
    "name": "ipython",
    "version": 3
   },
   "file_extension": ".py",
   "mimetype": "text/x-python",
   "name": "python",
   "nbconvert_exporter": "python",
   "pygments_lexer": "ipython3",
   "version": "3.9.1"
  }
 },
 "nbformat": 4,
 "nbformat_minor": 5
}
