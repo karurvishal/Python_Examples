{
 "cells": [
  {
   "cell_type": "code",
   "execution_count": 14,
   "id": "capital-arbitration",
   "metadata": {},
   "outputs": [
    {
     "name": "stdout",
     "output_type": "stream",
     "text": [
      "the old cordinate is 0\n",
      "new position is 3\n"
     ]
    }
   ],
   "source": [
    "alien_0 = {'x_position' : 0,'y_position' : 25 , 'speed' : 'medium'}\n",
    "print(f\"the old cordinate is {alien_0['x_position']}\")\n",
    "alien_0['speed'] = 'fast'\n",
    "if alien_0['speed'] == 'slow':\n",
    "    x_increment = 1\n",
    "elif alien_0['speed'] == 'medium':\n",
    "    x_increment = 2\n",
    "else:\n",
    "    x_increment = 3\n",
    "    \n",
    "alien_0['x_position'] = alien_0['x_position'] + x_increment\n",
    "print(f\"new position is {alien_0['x_position']}\")"
   ]
  },
  {
   "cell_type": "code",
   "execution_count": null,
   "id": "exclusive-slave",
   "metadata": {},
   "outputs": [],
   "source": []
  }
 ],
 "metadata": {
  "kernelspec": {
   "display_name": "Python 3",
   "language": "python",
   "name": "python3"
  },
  "language_info": {
   "codemirror_mode": {
    "name": "ipython",
    "version": 3
   },
   "file_extension": ".py",
   "mimetype": "text/x-python",
   "name": "python",
   "nbconvert_exporter": "python",
   "pygments_lexer": "ipython3",
   "version": "3.9.1"
  }
 },
 "nbformat": 4,
 "nbformat_minor": 5
}
