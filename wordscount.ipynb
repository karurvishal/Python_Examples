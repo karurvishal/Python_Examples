{
 "cells": [
  {
   "cell_type": "code",
   "execution_count": 3,
   "id": "specified-terror",
   "metadata": {},
   "outputs": [
    {
     "name": "stdout",
     "output_type": "stream",
     "text": [
      "enter any sentencemy name is vishal karur\n",
      "there are 5 numbers of words in a sentence\n"
     ]
    }
   ],
   "source": [
    "def words():\n",
    "    sentence = input(\"enter any sentence\")\n",
    "    count = 0\n",
    "    for i in sentence:\n",
    "        if i == \" \":\n",
    "            count +=1\n",
    "    print(f\"there are {count+1} numbers of words in a sentence\")\n",
    "words()\n",
    "        "
   ]
  },
  {
   "cell_type": "code",
   "execution_count": null,
   "id": "christian-injury",
   "metadata": {},
   "outputs": [],
   "source": []
  }
 ],
 "metadata": {
  "kernelspec": {
   "display_name": "Python 3",
   "language": "python",
   "name": "python3"
  },
  "language_info": {
   "codemirror_mode": {
    "name": "ipython",
    "version": 3
   },
   "file_extension": ".py",
   "mimetype": "text/x-python",
   "name": "python",
   "nbconvert_exporter": "python",
   "pygments_lexer": "ipython3",
   "version": "3.9.1"
  }
 },
 "nbformat": 4,
 "nbformat_minor": 5
}
