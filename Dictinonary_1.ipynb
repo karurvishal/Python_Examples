{
 "cells": [
  {
   "cell_type": "code",
   "execution_count": 2,
   "id": "equal-island",
   "metadata": {},
   "outputs": [],
   "source": [
    "alien_0 = {'color' : 'green','points' : 5}\n"
   ]
  },
  {
   "cell_type": "code",
   "execution_count": 3,
   "id": "yellow-extraction",
   "metadata": {},
   "outputs": [
    {
     "data": {
      "text/plain": [
       "'green'"
      ]
     },
     "execution_count": 3,
     "metadata": {},
     "output_type": "execute_result"
    }
   ],
   "source": [
    "alien_0['color']"
   ]
  },
  {
   "cell_type": "code",
   "execution_count": 5,
   "id": "allied-motel",
   "metadata": {},
   "outputs": [
    {
     "data": {
      "text/plain": [
       "5"
      ]
     },
     "execution_count": 5,
     "metadata": {},
     "output_type": "execute_result"
    }
   ],
   "source": [
    "alien_0['points']"
   ]
  },
  {
   "cell_type": "code",
   "execution_count": null,
   "id": "major-costume",
   "metadata": {},
   "outputs": [],
   "source": []
  }
 ],
 "metadata": {
  "kernelspec": {
   "display_name": "Python 3",
   "language": "python",
   "name": "python3"
  },
  "language_info": {
   "codemirror_mode": {
    "name": "ipython",
    "version": 3
   },
   "file_extension": ".py",
   "mimetype": "text/x-python",
   "name": "python",
   "nbconvert_exporter": "python",
   "pygments_lexer": "ipython3",
   "version": "3.9.1"
  }
 },
 "nbformat": 4,
 "nbformat_minor": 5
}
