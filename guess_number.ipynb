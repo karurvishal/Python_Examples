{
 "cells": [
  {
   "cell_type": "code",
   "execution_count": null,
   "id": "split-astronomy",
   "metadata": {},
   "outputs": [],
   "source": [
    "from random import randint\n",
    "number = randint(0,50)\n",
    "guess = int(input(\"guess the number between 1 and 50\"))\n",
    "count = 0\n",
    "if guess < 0 and guess > 50:\n",
    "    print(\"Please input correct range\")\n",
    "while guess != number:\n",
    "    if guess < number :\n",
    "        count += 1\n",
    "        print(\"your number is less try again\")\n",
    "        guess = int(input(\"guess the number between 1 and 50\"))\n",
    "    else:\n",
    "        count += 1\n",
    "        print(\"your number is higher try again\")\n",
    "        guess = int(input(\"guess the number between 1 and 50\"))\n",
    "        \n",
    "print(\"you have guessed correct number\")\n",
    "print(f\"you have {count} attempts\")\n",
    "        \n",
    "    "
   ]
  },
  {
   "cell_type": "code",
   "execution_count": null,
   "id": "hundred-times",
   "metadata": {},
   "outputs": [],
   "source": []
  }
 ],
 "metadata": {
  "kernelspec": {
   "display_name": "Python 3",
   "language": "python",
   "name": "python3"
  },
  "language_info": {
   "codemirror_mode": {
    "name": "ipython",
    "version": 3
   },
   "file_extension": ".py",
   "mimetype": "text/x-python",
   "name": "python",
   "nbconvert_exporter": "python",
   "pygments_lexer": "ipython3",
   "version": "3.9.1"
  }
 },
 "nbformat": 4,
 "nbformat_minor": 5
}
