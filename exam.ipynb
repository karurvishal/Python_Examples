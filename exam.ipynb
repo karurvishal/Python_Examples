{
 "cells": [
  {
   "cell_type": "code",
   "execution_count": 12,
   "id": "taken-anime",
   "metadata": {},
   "outputs": [
    {
     "name": "stdout",
     "output_type": "stream",
     "text": [
      "{'name': 'vishalkarur', 'l_name': 'karur'}\n",
      "{'name': 'vishalkarur', 'l_name': 'karur', 'school': 'Devika'}\n",
      "{'name': 'vishalkarur', 'l_name': 'karur', 'school': 'Devika', 'Haveri': 'Ranebennur'}\n"
     ]
    }
   ],
   "source": [
    "info = {\n",
    "    'name':'vishalkarur',\n",
    "    'l_name' : 'karur',\n",
    "}\n",
    "print(info)\n",
    "info['school'] = 'Devika'\n",
    "print(info)\n",
    "city = 'Ranebennur'\n",
    "Dist = 'Haveri'\n",
    "info[Dist]=city\n",
    "print(info)"
   ]
  },
  {
   "cell_type": "code",
   "execution_count": null,
   "id": "silver-feature",
   "metadata": {},
   "outputs": [],
   "source": []
  }
 ],
 "metadata": {
  "kernelspec": {
   "display_name": "Python 3",
   "language": "python",
   "name": "python3"
  },
  "language_info": {
   "codemirror_mode": {
    "name": "ipython",
    "version": 3
   },
   "file_extension": ".py",
   "mimetype": "text/x-python",
   "name": "python",
   "nbconvert_exporter": "python",
   "pygments_lexer": "ipython3",
   "version": "3.9.1"
  }
 },
 "nbformat": 4,
 "nbformat_minor": 5
}
