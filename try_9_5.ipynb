{
 "cells": [
  {
   "cell_type": "code",
   "execution_count": 7,
   "id": "natural-commerce",
   "metadata": {},
   "outputs": [
    {
     "name": "stdout",
     "output_type": "stream",
     "text": [
      "User Vishal,Karur Is 23 Old\n",
      "Hi vishalkarur how are you doing ?\n",
      "no of logins attempts made 1\n",
      "no of logins attempts made 0\n",
      "User Vinayak,Karur Is 27 Old\n",
      "Hi vinayakkarur how are you doing ?\n",
      "no of logins attempts made 1\n",
      "no of logins attempts made 0\n"
     ]
    }
   ],
   "source": [
    "class User():\n",
    "    def __init__(self,f_name,l_name,age):\n",
    "        self.f_name = f_name\n",
    "        self.l_name = l_name\n",
    "        self.age = age\n",
    "        self.attempts = 0\n",
    "    def d_user(self):\n",
    "        sum = f\"user {self.f_name},{self.l_name} is {self.age} old\"\n",
    "        return sum.title()\n",
    "    def g_user(self):\n",
    "        print(f\"Hi {self.f_name}{self.l_name} how are you doing ?\")\n",
    "    def i_login(self):\n",
    "        self.attempts += 1\n",
    "        print(f\"no of logins attempts made {self.attempts}\")\n",
    "    def r_login(self):\n",
    "        self.attempts = 0\n",
    "        print(f\"no of logins attempts made {self.attempts}\")\n",
    "f_user = User('vishal','karur',23)\n",
    "s_user = User('vinayak','karur',27)\n",
    "print(f_user.d_user())\n",
    "f_user.g_user()\n",
    "f_user.i_login()\n",
    "f_user.r_login()\n",
    "print(s_user.d_user())\n",
    "s_user.g_user()\n",
    "s_user.i_login()\n",
    "f_user.r_login()"
   ]
  },
  {
   "cell_type": "code",
   "execution_count": null,
   "id": "prompt-alaska",
   "metadata": {},
   "outputs": [],
   "source": []
  }
 ],
 "metadata": {
  "kernelspec": {
   "display_name": "Python 3",
   "language": "python",
   "name": "python3"
  },
  "language_info": {
   "codemirror_mode": {
    "name": "ipython",
    "version": 3
   },
   "file_extension": ".py",
   "mimetype": "text/x-python",
   "name": "python",
   "nbconvert_exporter": "python",
   "pygments_lexer": "ipython3",
   "version": "3.9.1"
  }
 },
 "nbformat": 4,
 "nbformat_minor": 5
}
