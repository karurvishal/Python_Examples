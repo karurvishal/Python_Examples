{
 "cells": [
  {
   "cell_type": "code",
   "execution_count": 12,
   "id": "joint-discovery",
   "metadata": {},
   "outputs": [
    {
     "name": "stdout",
     "output_type": "stream",
     "text": [
      "your name is vishal,your age is 23,your sex is male\n"
     ]
    }
   ],
   "source": [
    "info = {'name':'vishal','age':'23','sex':'male'}\n",
    "print(f\"your name is {info['name']}\",end =\",\")\n",
    "print(f\"your age is {info['age']}\",end=\",\")\n",
    "print(f\"your sex is {info['sex']}\")"
   ]
  },
  {
   "cell_type": "code",
   "execution_count": null,
   "id": "conventional-glance",
   "metadata": {},
   "outputs": [],
   "source": []
  }
 ],
 "metadata": {
  "kernelspec": {
   "display_name": "Python 3",
   "language": "python",
   "name": "python3"
  },
  "language_info": {
   "codemirror_mode": {
    "name": "ipython",
    "version": 3
   },
   "file_extension": ".py",
   "mimetype": "text/x-python",
   "name": "python",
   "nbconvert_exporter": "python",
   "pygments_lexer": "ipython3",
   "version": "3.9.1"
  }
 },
 "nbformat": 4,
 "nbformat_minor": 5
}
