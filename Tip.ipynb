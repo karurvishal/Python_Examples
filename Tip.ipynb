{
 "cells": [
  {
   "cell_type": "code",
   "execution_count": 4,
   "id": "infrared-raleigh",
   "metadata": {},
   "outputs": [
    {
     "name": "stdout",
     "output_type": "stream",
     "text": [
      "enter the bill amount50\n",
      "enter the percentage50\n",
      "total bill with tips is 75\n"
     ]
    }
   ],
   "source": [
    "def tip():\n",
    "    bill = int(input(\"enter the bill amount\"))\n",
    "    percentage = int(input(\"enter the percentage\"))\n",
    "    total_bill = (((bill*percentage)/100) + bill )\n",
    "    print(f\"total bill with tips is {int(total_bill)}\")\n",
    "tip()\n",
    "    "
   ]
  },
  {
   "cell_type": "code",
   "execution_count": null,
   "id": "annual-journalist",
   "metadata": {},
   "outputs": [],
   "source": []
  }
 ],
 "metadata": {
  "kernelspec": {
   "display_name": "Python 3",
   "language": "python",
   "name": "python3"
  },
  "language_info": {
   "codemirror_mode": {
    "name": "ipython",
    "version": 3
   },
   "file_extension": ".py",
   "mimetype": "text/x-python",
   "name": "python",
   "nbconvert_exporter": "python",
   "pygments_lexer": "ipython3",
   "version": "3.9.1"
  }
 },
 "nbformat": 4,
 "nbformat_minor": 5
}
